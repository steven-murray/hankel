{
 "cells": [
  {
   "cell_type": "markdown",
   "metadata": {
    "collapsed": true
   },
   "source": [
    "# Getting Started with Hankel"
   ]
  },
  {
   "cell_type": "markdown",
   "metadata": {},
   "source": [
    "## Usage and Description"
   ]
  },
  {
   "cell_type": "markdown",
   "metadata": {},
   "source": [
    "### Setup"
   ]
  },
  {
   "cell_type": "markdown",
   "metadata": {},
   "source": [
    "This implementation is set up to allow efficient calculation of\n",
    "multiple functions $f(x)$. To do this, the format is\n",
    "class-based, with the main object taking as arguments the order of the\n",
    "Bessel function, and the number and size of the\n",
    "integration steps (see [Limitations](#Limitations) for discussion\n",
    "about how to choose these key parameters).\n",
    "\n",
    "For any general integration or transform of a function, we perform the\n",
    "following setup:"
   ]
  },
  {
   "cell_type": "code",
   "execution_count": 1,
   "metadata": {},
   "outputs": [
    {
     "name": "stdout",
     "output_type": "stream",
     "text": [
      "Using hankel v0.3.7\n"
     ]
    }
   ],
   "source": [
    "import hankel\n",
    "from hankel import HankelTransform     # Import the basic class\n",
    "print(\"Using hankel v{}\".format(hankel.__version__))"
   ]
  },
  {
   "cell_type": "code",
   "execution_count": 2,
   "metadata": {},
   "outputs": [],
   "source": [
    "ht = HankelTransform(\n",
    "    nu= 0,     # The order of the bessel function\n",
    "    N = 120,   # Number of steps in the integration\n",
    "    h = 0.03   # Proxy for \"size\" of steps in integration\n",
    ")"
   ]
  },
  {
   "cell_type": "markdown",
   "metadata": {},
   "source": [
    "Alternatively, each of the parameters has defaults, so you needn't\n",
    "pass any. The order of the bessel function will be\n",
    "defined by the problem at hand, while the other arguments typically\n",
    "require some exploration to set them optimally.\n"
   ]
  },
  {
   "cell_type": "markdown",
   "metadata": {},
   "source": [
    "### Integration"
   ]
  },
  {
   "cell_type": "markdown",
   "metadata": {},
   "source": [
    "A Hankel-type integral is the integral\n",
    "\n",
    "$$ \\int_0^\\infty f(x) J_\\nu(x) dx. $$\n",
    "\n",
    "Having set up our transform with ``nu = 0``, we may wish to perform\n",
    "this integral for $f(x) = 1$. To do this, we do the\n",
    "following:"
   ]
  },
  {
   "cell_type": "code",
   "execution_count": 3,
   "metadata": {},
   "outputs": [
    {
     "data": {
      "text/plain": [
       "(1.0000000000003486, -9.838142836853752e-15)"
      ]
     },
     "execution_count": 3,
     "metadata": {},
     "output_type": "execute_result"
    }
   ],
   "source": [
    "# Create a function which is identically 1.\n",
    "f = lambda x : 1   \n",
    "ht.integrate(f)"
   ]
  },
  {
   "cell_type": "markdown",
   "metadata": {},
   "source": [
    "The correct answer is 1, so we have done quite well. The second\n",
    "element of the returned result is an estimate of the\n",
    "error (it is the last term in the summation). The error estimate can\n",
    "be omitted using the argument ``ret_err=False``.\n",
    "\n",
    "We may now wish to integrate a different function, say $x/(x^2 + 1)$.\n",
    "We can do this directly with the same object,\n",
    "without re-instantiating (avoiding unnecessary recalculation):"
   ]
  },
  {
   "cell_type": "code",
   "execution_count": 4,
   "metadata": {},
   "outputs": [
    {
     "data": {
      "text/plain": [
       "(0.42098875721567186, -2.6150757700135774e-17)"
      ]
     },
     "execution_count": 4,
     "metadata": {},
     "output_type": "execute_result"
    }
   ],
   "source": [
    "f = lambda x : x/(x**2 + 1)\n",
    "ht.integrate(f)"
   ]
  },
  {
   "cell_type": "markdown",
   "metadata": {},
   "source": [
    "The analytic answer here is $K_0(1) = 0.4210$. The accuracy could be\n",
    "increased by creating ``ht`` with a higher number\n",
    "of steps ``N``, and lower stepsize ``h`` (see [Limitations](#Limitations))."
   ]
  },
  {
   "cell_type": "markdown",
   "metadata": {},
   "source": [
    "### Transforms"
   ]
  },
  {
   "cell_type": "markdown",
   "metadata": {},
   "source": [
    "The Hankel transform is defined as\n",
    "\n",
    "$$ F_\\nu(k) = \\int_0^\\infty f(r) J_\\nu(kr) r dr. $$\n",
    "\n",
    "We see that the Hankel-type integral is the Hankel transform of\n",
    "$f(r)/r$ with $k=1$. To perform this more general\n",
    "transform, we must supply the $k$ values. Again, let's use our\n",
    "previous function, $x/(x^2 + 1)$. \n",
    "\n",
    "First we'll import some libraries to help us visualise:"
   ]
  },
  {
   "cell_type": "code",
   "execution_count": 5,
   "metadata": {},
   "outputs": [],
   "source": [
    "import numpy as np              # Import numpy\n",
    "import matplotlib.pyplot as plt\n",
    "%matplotlib inline"
   ]
  },
  {
   "cell_type": "markdown",
   "metadata": {},
   "source": [
    "Now do the transform,"
   ]
  },
  {
   "cell_type": "code",
   "execution_count": 6,
   "metadata": {},
   "outputs": [],
   "source": [
    "k = np.logspace(-1,1,50)             # Create a log-spaced array of k from 0.1 to 10.\n",
    "Fk = ht.transform(f,k,ret_err=False) # Return the transform of f at k."
   ]
  },
  {
   "cell_type": "markdown",
   "metadata": {},
   "source": [
    "and finally plot it:"
   ]
  },
  {
   "cell_type": "code",
   "execution_count": 8,
   "metadata": {},
   "outputs": [
    {
     "data": {
      "image/png": "[encoded data removed]",
      "text/plain": [
       "<Figure size 432x288 with 1 Axes>"
      ]
     },
     "metadata": {
      "needs_background": "light"
     },
     "output_type": "display_data"
    }
   ],
   "source": [
    "plt.plot(k,Fk)\n",
    "plt.xscale('log')\n",
    "plt.yscale('log')\n",
    "plt.ylabel(r\"$F_0(k)$\", fontsize=15)\n",
    "plt.xlabel(r\"$k$\", fontsize=15)\n",
    "plt.show()"
   ]
  },
  {
   "cell_type": "markdown",
   "metadata": {},
   "source": [
    "### Fourier Transforms"
   ]
  },
  {
   "cell_type": "markdown",
   "metadata": {},
   "source": [
    "One of the most common applications of the Hankel transform is to\n",
    "solve the [radially symmetric n-dimensional Fourier\n",
    "  transform](https://en.wikipedia.org/wiki/Hankel_transform#Relation_to_the_Fourier_transform_.28radially_symmetric_case_in_n-dimensions.29):\n",
    "\n",
    "$$ F(k) = \\frac{(2\\pi)^{n/2}}{k^{n/2-1}} \\int_0^\\infty r^{n/2-1} f(r) J_{n/2-1}(kr)r dr.$$\n",
    "\n",
    "We provide a specific class to do this transform, which takes into\n",
    "account the various normalisations and substitutions\n",
    "required, and also provides the inverse transform. The procedure is\n",
    "similar to the basic ``HankelTransform``, but we\n",
    "provide the number of dimensions, rather than the Bessel order\n",
    "directly. \n",
    "\n",
    "Say we wish to find the Fourier transform of\n",
    "$f(r) = 1/r$ in 3 dimensions:"
   ]
  },
  {
   "cell_type": "code",
   "execution_count": 9,
   "metadata": {},
   "outputs": [],
   "source": [
    "# Import the Symmetric Fourier Transform class\n",
    "from hankel import SymmetricFourierTransform\n",
    "\n",
    "# Create our transform object, similar to HankelTransform,\n",
    "# but with ndim specified instead of nu.\n",
    "ft = SymmetricFourierTransform(ndim=3, N = 200, h = 0.03)\n",
    "\n",
    "# Create our kernel function to be transformed.\n",
    "f = lambda r : 1./r\n",
    "\n",
    "# Perform the transform\n",
    "Fk = ft.transform(f,k, ret_err=False)"
   ]
  },
  {
   "cell_type": "code",
   "execution_count": 10,
   "metadata": {},
   "outputs": [
    {
     "data": {
      "image/png": "[encoded data removed]",
      "text/plain": [
       "<Figure size 432x288 with 1 Axes>"
      ]
     },
     "metadata": {
      "needs_background": "light"
     },
     "output_type": "display_data"
    }
   ],
   "source": [
    "plt.plot(k,Fk)\n",
    "plt.xscale('log')\n",
    "plt.yscale('log')\n",
    "plt.ylabel(r\"$\\mathcal{F}(k)$\")\n",
    "plt.xlabel(r\"$k$\")\n",
    "plt.show()"
   ]
  },
  {
   "cell_type": "markdown",
   "metadata": {},
   "source": [
    "To do the inverse transformation (which is different by a\n",
    "normalisation constant), merely supply ``inverse=True`` to\n",
    "the ``.transform()`` method."
   ]
  },
  {
   "cell_type": "markdown",
   "metadata": {},
   "source": [
    "## Limitations"
   ]
  },
  {
   "cell_type": "markdown",
   "metadata": {},
   "source": [
    "### Efficiency\n",
    "\n",
    "An implementation-specific limitation is that the method is not\n",
    "perfectly efficient in all cases. Care has been taken\n",
    "to make it efficient in the general sense. However, for specific\n",
    "orders and functions, simplifications may be made\n",
    "which reduce the number of trigonometric functions evaluated. For\n",
    "instance, for a zeroth-order spherical transform,\n",
    "the weights are analytically always identically 1."
   ]
  },
  {
   "cell_type": "markdown",
   "metadata": {},
   "source": [
    "### Lower-Bound Convergence\n",
    "\n",
    "Theoretically, since Bessel functions have asymptotic power-law slope of $n/2 -1$ as $r \\rightarrow 0$, the function $f(r)$ must have an asymptotic slope $> -n/2$ in this regime in order to converge. \n",
    "This restriction is method-independent.\n",
    "\n",
    "In terms of limitations of the method, they are very dependent on the\n",
    "form of the function chosen. Notably, functions\n",
    "which either have sharp features at low $r$, or tend towards a slope of $\\sim -n/2$,  will be poorly approximated in this\n",
    "method, and will be highly dependent on the step-size\n",
    "parameter, as the information at low-x will be lost between 0 and the\n",
    "first step. As an example consider the simple\n",
    "function $f(x) = 1/\\sqrt{x}$ with a 1/2 order bessel function. The\n",
    "  total integrand tends to 1 at $x=0$, rather than 0:"
   ]
  },
  {
   "cell_type": "code",
   "execution_count": 11,
   "metadata": {},
   "outputs": [
    {
     "data": {
      "text/plain": [
       "(1.2336282257874065, -2.864861354876958e-16)"
      ]
     },
     "execution_count": 11,
     "metadata": {},
     "output_type": "execute_result"
    }
   ],
   "source": [
    "f = lambda x: 1/np.sqrt(x)\n",
    "h = HankelTransform(0.5,120,0.03)\n",
    "h.integrate(f)"
   ]
  },
  {
   "cell_type": "markdown",
   "metadata": {},
   "source": [
    "The true answer is $\\sqrt{\\pi/2}$, which is a difference of about 1.6%. Modifying the step size and number of steps to gain accuracy we find:"
   ]
  },
  {
   "cell_type": "code",
   "execution_count": 12,
   "metadata": {},
   "outputs": [
    {
     "data": {
      "text/plain": [
       "(1.2523045155005623, -0.0012281146007915768)"
      ]
     },
     "execution_count": 12,
     "metadata": {},
     "output_type": "execute_result"
    }
   ],
   "source": [
    "h = HankelTransform(0.5,700,0.001)\n",
    "h.integrate(f)"
   ]
  },
  {
   "cell_type": "markdown",
   "metadata": {},
   "source": [
    "This has much better than percent accuracy, but uses 5 times the\n",
    "  amount of steps. The key here is the reduction of h\n",
    "to \"get inside\" the low-x information."
   ]
  },
  {
   "cell_type": "markdown",
   "metadata": {},
   "source": [
    "### Upper-Bound Convergence\n",
    "\n",
    "Theoretically, since the Bessel functions decay as $r^{-1/2} \\cos r$ as $f \\rightarrow \\infty$, the asymptotic logarithmic slope of $f(r)$ must be $< (1-n)/2$ in order to converge. \n",
    "\n",
    "As the asymptotic slope approaches this value, higher and higher zeros of the Bessel function will be required to capture the convergence.\n",
    "Often, it will be the case that if this is so, the amplitude of the function is low at low $x$, so that the step-size ``h`` can be increased to facilitate this. Otherwise, the number of steps ``N`` can be increased.\n",
    "\n",
    "For example, the 1/2-order integral supports functions that are increasing up to $f(x) = x^{0.5}$. Let's use $f(x) = x^{0.4}$ as an example of a slowly converging function, and use our \"hi-res\" setup from the previous section. We note that the analytic result is 0.8421449."
   ]
  },
  {
   "cell_type": "code",
   "execution_count": 20,
   "metadata": {},
   "outputs": [],
   "source": [
    "f = lambda x : x**0.4"
   ]
  },
  {
   "cell_type": "code",
   "execution_count": 25,
   "metadata": {},
   "outputs": [
    {
     "name": "stdout",
     "output_type": "stream",
     "text": [
      "735 µs ± 8.11 µs per loop (mean ± std. dev. of 7 runs, 1000 loops each)\n"
     ]
    }
   ],
   "source": [
    "%%timeit\n",
    "HankelTransform(0.5,700,0.001).integrate(f)"
   ]
  },
  {
   "cell_type": "code",
   "execution_count": 26,
   "metadata": {},
   "outputs": [
    {
     "name": "stdout",
     "output_type": "stream",
     "text": [
      "Relative Error is:  -0.362600451237186\n",
      "Predicted Abs. Error is:  -1.05909546212511\n"
     ]
    }
   ],
   "source": [
    "res = HankelTransform(0.5,700,0.001).integrate(f)\n",
    "print(\"Relative Error is: \", res[0]/0.8421449 - 1)\n",
    "print(\"Predicted Abs. Error is: \", res[1])"
   ]
  },
  {
   "cell_type": "markdown",
   "metadata": {},
   "source": [
    "Our result is way off. Note that in this case, the error estimate itself is a good indication that we haven't reached convergence. We could try increasing ``N``:"
   ]
  },
  {
   "cell_type": "code",
   "execution_count": 27,
   "metadata": {},
   "outputs": [
    {
     "name": "stdout",
     "output_type": "stream",
     "text": [
      "Relative Error is:  7.133537831549575e-07\n"
     ]
    }
   ],
   "source": [
    "h = HankelTransform(0.5,10000,0.001)\n",
    "print(\"Relative Error is: \", h.integrate(f,ret_err=False)/0.8421449 -1)"
   ]
  },
  {
   "cell_type": "markdown",
   "metadata": {},
   "source": [
    "This is very accurate, but quite slow:"
   ]
  },
  {
   "cell_type": "code",
   "execution_count": 28,
   "metadata": {},
   "outputs": [
    {
     "name": "stdout",
     "output_type": "stream",
     "text": [
      "9.12 ms ± 211 µs per loop (mean ± std. dev. of 7 runs, 100 loops each)\n"
     ]
    }
   ],
   "source": [
    "%%timeit\n",
    "HankelTransform(0.5,10000,0.001).integrate(f)"
   ]
  },
  {
   "cell_type": "markdown",
   "metadata": {},
   "source": [
    "Alternatively, we could try increasing ``h``:"
   ]
  },
  {
   "cell_type": "code",
   "execution_count": 18,
   "metadata": {},
   "outputs": [
    {
     "data": {
      "text/plain": [
       "0.00045613842025526985"
      ]
     },
     "execution_count": 18,
     "metadata": {},
     "output_type": "execute_result"
    }
   ],
   "source": [
    "h = HankelTransform(0.5,700,0.03)\n",
    "h.integrate(f,ret_err=False)/0.8421449 -1"
   ]
  },
  {
   "cell_type": "markdown",
   "metadata": {},
   "source": [
    "Not quite as accurate, but still far better than a percent for a\n",
    "tenth of the cost:"
   ]
  },
  {
   "cell_type": "code",
   "execution_count": 29,
   "metadata": {},
   "outputs": [
    {
     "name": "stdout",
     "output_type": "stream",
     "text": [
      "718 µs ± 2.04 µs per loop (mean ± std. dev. of 7 runs, 1000 loops each)\n"
     ]
    }
   ],
   "source": [
    "%%timeit\n",
    "HankelTransform(0.5,700,0.03).integrate(f)"
   ]
  },
  {
   "cell_type": "markdown",
   "metadata": {},
   "source": [
    "We explore how to determine $N$ and $h$ in more detail in another demo, and ``hankel`` provides the ``get_h`` function to automatically determine these values (at some computational cost).\n"
   ]
  }
 ],
 "metadata": {
  "kernelspec": {
   "display_name": "Python [conda env:hankel]",
   "language": "python",
   "name": "conda-env-hankel-py"
  },
  "language_info": {
   "codemirror_mode": {
    "name": "ipython",
    "version": 3
   },
   "file_extension": ".py",
   "mimetype": "text/x-python",
   "name": "python",
   "nbconvert_exporter": "python",
   "pygments_lexer": "ipython3",
   "version": "3.7.2"
  }
 },
 "nbformat": 4,
 "nbformat_minor": 1
}
